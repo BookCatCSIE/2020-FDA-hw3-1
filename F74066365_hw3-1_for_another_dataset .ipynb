{
 "cells": [
  {
   "cell_type": "code",
   "execution_count": 1,
   "metadata": {},
   "outputs": [],
   "source": [
    "import numpy as np\n",
    "import pandas as pd\n",
    "\n",
    "from sklearn.model_selection import KFold   \n",
    "from sklearn.metrics import accuracy_score"
   ]
  },
  {
   "cell_type": "code",
   "execution_count": 2,
   "metadata": {},
   "outputs": [],
   "source": [
    "train = pd.read_csv(\"test_set.csv\")\n",
    "test = pd.read_csv(\"training_set.csv\")"
   ]
  },
  {
   "cell_type": "code",
   "execution_count": 3,
   "metadata": {},
   "outputs": [
    {
     "data": {
      "text/html": [
       "<div>\n",
       "<style scoped>\n",
       "    .dataframe tbody tr th:only-of-type {\n",
       "        vertical-align: middle;\n",
       "    }\n",
       "\n",
       "    .dataframe tbody tr th {\n",
       "        vertical-align: top;\n",
       "    }\n",
       "\n",
       "    .dataframe thead th {\n",
       "        text-align: right;\n",
       "    }\n",
       "</style>\n",
       "<table border=\"1\" class=\"dataframe\">\n",
       "  <thead>\n",
       "    <tr style=\"text-align: right;\">\n",
       "      <th></th>\n",
       "      <th>Date</th>\n",
       "      <th>Open Price</th>\n",
       "      <th>Close Price</th>\n",
       "      <th>High Price</th>\n",
       "      <th>Low Price</th>\n",
       "      <th>Volume</th>\n",
       "      <th>Rise</th>\n",
       "      <th>Diff of Close Price</th>\n",
       "    </tr>\n",
       "  </thead>\n",
       "  <tbody>\n",
       "    <tr>\n",
       "      <th>0</th>\n",
       "      <td>2-Jan-18</td>\n",
       "      <td>2683.73</td>\n",
       "      <td>2695.81</td>\n",
       "      <td>2695.89</td>\n",
       "      <td>2682.36</td>\n",
       "      <td>1846463232</td>\n",
       "      <td>NaN</td>\n",
       "      <td>NaN</td>\n",
       "    </tr>\n",
       "    <tr>\n",
       "      <th>1</th>\n",
       "      <td>3-Jan-18</td>\n",
       "      <td>2697.85</td>\n",
       "      <td>2713.06</td>\n",
       "      <td>2714.37</td>\n",
       "      <td>2697.77</td>\n",
       "      <td>2090595328</td>\n",
       "      <td>1.0</td>\n",
       "      <td>17.25</td>\n",
       "    </tr>\n",
       "    <tr>\n",
       "      <th>2</th>\n",
       "      <td>4-Jan-18</td>\n",
       "      <td>2719.31</td>\n",
       "      <td>2723.99</td>\n",
       "      <td>2729.29</td>\n",
       "      <td>2719.07</td>\n",
       "      <td>2100767744</td>\n",
       "      <td>1.0</td>\n",
       "      <td>10.93</td>\n",
       "    </tr>\n",
       "    <tr>\n",
       "      <th>3</th>\n",
       "      <td>5-Jan-18</td>\n",
       "      <td>2731.33</td>\n",
       "      <td>2743.15</td>\n",
       "      <td>2743.45</td>\n",
       "      <td>2727.92</td>\n",
       "      <td>1918869120</td>\n",
       "      <td>1.0</td>\n",
       "      <td>19.16</td>\n",
       "    </tr>\n",
       "    <tr>\n",
       "      <th>4</th>\n",
       "      <td>8-Jan-18</td>\n",
       "      <td>2742.67</td>\n",
       "      <td>2747.71</td>\n",
       "      <td>2748.51</td>\n",
       "      <td>2737.60</td>\n",
       "      <td>1894823936</td>\n",
       "      <td>1.0</td>\n",
       "      <td>4.56</td>\n",
       "    </tr>\n",
       "  </tbody>\n",
       "</table>\n",
       "</div>"
      ],
      "text/plain": [
       "       Date  Open Price  Close Price  High Price  Low Price      Volume  Rise  \\\n",
       "0  2-Jan-18     2683.73      2695.81     2695.89    2682.36  1846463232   NaN   \n",
       "1  3-Jan-18     2697.85      2713.06     2714.37    2697.77  2090595328   1.0   \n",
       "2  4-Jan-18     2719.31      2723.99     2729.29    2719.07  2100767744   1.0   \n",
       "3  5-Jan-18     2731.33      2743.15     2743.45    2727.92  1918869120   1.0   \n",
       "4  8-Jan-18     2742.67      2747.71     2748.51    2737.60  1894823936   1.0   \n",
       "\n",
       "   Diff of Close Price  \n",
       "0                  NaN  \n",
       "1                17.25  \n",
       "2                10.93  \n",
       "3                19.16  \n",
       "4                 4.56  "
      ]
     },
     "execution_count": 3,
     "metadata": {},
     "output_type": "execute_result"
    }
   ],
   "source": [
    "train.head(5)"
   ]
  },
  {
   "cell_type": "code",
   "execution_count": 4,
   "metadata": {},
   "outputs": [
    {
     "name": "stdout",
     "output_type": "stream",
     "text": [
      "<class 'pandas.core.frame.DataFrame'>\n",
      "RangeIndex: 252 entries, 0 to 251\n",
      "Data columns (total 8 columns):\n",
      "Date                   252 non-null object\n",
      "Open Price             252 non-null float64\n",
      "Close Price            252 non-null float64\n",
      "High Price             252 non-null float64\n",
      "Low Price              252 non-null float64\n",
      "Volume                 252 non-null int64\n",
      "Rise                   251 non-null float64\n",
      "Diff of Close Price    251 non-null float64\n",
      "dtypes: float64(6), int64(1), object(1)\n",
      "memory usage: 15.8+ KB\n"
     ]
    }
   ],
   "source": [
    "train.info()"
   ]
  },
  {
   "cell_type": "code",
   "execution_count": 5,
   "metadata": {},
   "outputs": [],
   "source": [
    "# 填補缺失值\n",
    "from sklearn.impute import SimpleImputer \n",
    "\n",
    "imputer = SimpleImputer(strategy='most_frequent') \n",
    "rise = train['Rise'].to_numpy().reshape(-1, 1)\n",
    "imputer.fit(rise)                            \n",
    "train['Rise'] = imputer.transform(rise)       "
   ]
  },
  {
   "cell_type": "code",
   "execution_count": 6,
   "metadata": {},
   "outputs": [],
   "source": [
    "train['Diff1'] = train['Open Price'] - train['Close Price']\n",
    "train['Diff2'] = train['High Price'] - train['Low Price']"
   ]
  },
  {
   "cell_type": "code",
   "execution_count": 7,
   "metadata": {},
   "outputs": [],
   "source": [
    "#train_x = train[['Open Price','Close Price','High Price','Low Price','Volume','Diff1','Diff2']]\n",
    "train_x = train[['Volume','Diff1','Diff2']]\n",
    "\n",
    "train_y = train['Rise']"
   ]
  },
  {
   "cell_type": "code",
   "execution_count": 8,
   "metadata": {},
   "outputs": [
    {
     "data": {
      "text/html": [
       "<div>\n",
       "<style scoped>\n",
       "    .dataframe tbody tr th:only-of-type {\n",
       "        vertical-align: middle;\n",
       "    }\n",
       "\n",
       "    .dataframe tbody tr th {\n",
       "        vertical-align: top;\n",
       "    }\n",
       "\n",
       "    .dataframe thead th {\n",
       "        text-align: right;\n",
       "    }\n",
       "</style>\n",
       "<table border=\"1\" class=\"dataframe\">\n",
       "  <thead>\n",
       "    <tr style=\"text-align: right;\">\n",
       "      <th></th>\n",
       "      <th>Date</th>\n",
       "      <th>Open Price</th>\n",
       "      <th>Close Price</th>\n",
       "      <th>High Price</th>\n",
       "      <th>Low Price</th>\n",
       "      <th>Volume</th>\n",
       "      <th>Rise</th>\n",
       "      <th>Diff of Close Price</th>\n",
       "    </tr>\n",
       "  </thead>\n",
       "  <tbody>\n",
       "    <tr>\n",
       "      <th>0</th>\n",
       "      <td>2-Jan-09</td>\n",
       "      <td>902.99</td>\n",
       "      <td>931.80</td>\n",
       "      <td>934.73</td>\n",
       "      <td>899.35</td>\n",
       "      <td>4048270080</td>\n",
       "      <td>NaN</td>\n",
       "      <td>NaN</td>\n",
       "    </tr>\n",
       "    <tr>\n",
       "      <th>1</th>\n",
       "      <td>5-Jan-09</td>\n",
       "      <td>929.17</td>\n",
       "      <td>927.45</td>\n",
       "      <td>936.63</td>\n",
       "      <td>919.53</td>\n",
       "      <td>5413910016</td>\n",
       "      <td>-1.0</td>\n",
       "      <td>-4.35</td>\n",
       "    </tr>\n",
       "    <tr>\n",
       "      <th>2</th>\n",
       "      <td>6-Jan-09</td>\n",
       "      <td>931.17</td>\n",
       "      <td>934.70</td>\n",
       "      <td>943.85</td>\n",
       "      <td>927.28</td>\n",
       "      <td>5392620032</td>\n",
       "      <td>1.0</td>\n",
       "      <td>7.25</td>\n",
       "    </tr>\n",
       "    <tr>\n",
       "      <th>3</th>\n",
       "      <td>7-Jan-09</td>\n",
       "      <td>927.45</td>\n",
       "      <td>906.65</td>\n",
       "      <td>927.45</td>\n",
       "      <td>902.37</td>\n",
       "      <td>4704940032</td>\n",
       "      <td>-1.0</td>\n",
       "      <td>-28.05</td>\n",
       "    </tr>\n",
       "    <tr>\n",
       "      <th>4</th>\n",
       "      <td>8-Jan-09</td>\n",
       "      <td>905.73</td>\n",
       "      <td>909.73</td>\n",
       "      <td>910.00</td>\n",
       "      <td>896.81</td>\n",
       "      <td>4991549952</td>\n",
       "      <td>1.0</td>\n",
       "      <td>3.08</td>\n",
       "    </tr>\n",
       "  </tbody>\n",
       "</table>\n",
       "</div>"
      ],
      "text/plain": [
       "       Date  Open Price  Close Price  High Price  Low Price      Volume  Rise  \\\n",
       "0  2-Jan-09      902.99       931.80      934.73     899.35  4048270080   NaN   \n",
       "1  5-Jan-09      929.17       927.45      936.63     919.53  5413910016  -1.0   \n",
       "2  6-Jan-09      931.17       934.70      943.85     927.28  5392620032   1.0   \n",
       "3  7-Jan-09      927.45       906.65      927.45     902.37  4704940032  -1.0   \n",
       "4  8-Jan-09      905.73       909.73      910.00     896.81  4991549952   1.0   \n",
       "\n",
       "   Diff of Close Price  \n",
       "0                  NaN  \n",
       "1                -4.35  \n",
       "2                 7.25  \n",
       "3               -28.05  \n",
       "4                 3.08  "
      ]
     },
     "execution_count": 8,
     "metadata": {},
     "output_type": "execute_result"
    }
   ],
   "source": [
    "test.head(5)"
   ]
  },
  {
   "cell_type": "code",
   "execution_count": 9,
   "metadata": {},
   "outputs": [
    {
     "name": "stdout",
     "output_type": "stream",
     "text": [
      "<class 'pandas.core.frame.DataFrame'>\n",
      "RangeIndex: 2264 entries, 0 to 2263\n",
      "Data columns (total 8 columns):\n",
      "Date                   2264 non-null object\n",
      "Open Price             2264 non-null float64\n",
      "Close Price            2264 non-null float64\n",
      "High Price             2264 non-null float64\n",
      "Low Price              2264 non-null float64\n",
      "Volume                 2264 non-null int64\n",
      "Rise                   2263 non-null float64\n",
      "Diff of Close Price    2263 non-null float64\n",
      "dtypes: float64(6), int64(1), object(1)\n",
      "memory usage: 141.6+ KB\n"
     ]
    }
   ],
   "source": [
    "test.info()"
   ]
  },
  {
   "cell_type": "code",
   "execution_count": 10,
   "metadata": {},
   "outputs": [],
   "source": [
    "imputer = SimpleImputer(strategy='most_frequent') \n",
    "rise2 = test['Rise'].to_numpy().reshape(-1, 1)\n",
    "imputer.fit(rise2)                            \n",
    "test['Rise'] = imputer.transform(rise2)  "
   ]
  },
  {
   "cell_type": "code",
   "execution_count": 11,
   "metadata": {},
   "outputs": [],
   "source": [
    "test['Diff1'] = test['Open Price'] - test['Close Price']\n",
    "test['Diff2'] = test['High Price'] - test['Low Price']"
   ]
  },
  {
   "cell_type": "code",
   "execution_count": 12,
   "metadata": {},
   "outputs": [],
   "source": [
    "#test_x = test[['Open Price','Close Price','High Price','Low Price','Volume','Diff1','Diff2']]\n",
    "test_x = test[['Volume','Diff1','Diff2']]\n",
    "\n",
    "test_y = test['Rise']"
   ]
  },
  {
   "cell_type": "markdown",
   "metadata": {},
   "source": [
    "# Logistic Regression"
   ]
  },
  {
   "cell_type": "code",
   "execution_count": 13,
   "metadata": {},
   "outputs": [
    {
     "name": "stdout",
     "output_type": "stream",
     "text": [
      "average train accuracy: 0.5168612383626423\n",
      "    min train accuracy: 0.4801980198019802\n",
      "    max train accuracy: 0.5544554455445545\n",
      "average valid accuracy: 0.4485490196078431\n",
      "    min valid accuracy: 0.37254901960784315\n",
      "    max valid accuracy: 0.54\n"
     ]
    }
   ],
   "source": [
    "from sklearn.linear_model import LogisticRegression\n",
    "\n",
    "kf = KFold(n_splits=5, random_state=1012, shuffle=True)\n",
    "kf.get_n_splits(train_x)                            \n",
    "\n",
    "train_acc_list = []                                \n",
    "valid_acc_list = []                                 \n",
    "\n",
    "for train_index, valid_index in kf.split(train_x):   \n",
    "    train_x_split = train_x.iloc[train_index]        \n",
    "    train_y_split = train_y.iloc[train_index]       \n",
    "    valid_x_split = train_x.iloc[valid_index]        \n",
    "    valid_y_split = train_y.iloc[valid_index]        \n",
    "    \n",
    "    clf_model = LogisticRegression(C=10, random_state=1012, solver='saga', max_iter=5000, multi_class='multinomial')\n",
    "    ###\n",
    "    clf_model.fit(train_x_split, train_y_split)                  ###\n",
    "    \n",
    "    train_pred_y = clf_model.predict(train_x_split)              ###\n",
    "    train_acc = accuracy_score(train_y_split,train_pred_y)\n",
    "    valid_pred_y = clf_model.predict(valid_x_split)              ###\n",
    "    valid_acc = accuracy_score(valid_y_split,valid_pred_y)\n",
    "    \n",
    "    train_acc_list.append(train_acc)\n",
    "    valid_acc_list.append(valid_acc)\n",
    "\n",
    "print(('average train accuracy: {}\\n' +'    min train accuracy: {}\\n' +'    max train accuracy: {}\\n' +'average valid accuracy: {}\\n' +'    min valid accuracy: {}\\n' +'    max valid accuracy: {}')\n",
    "     .format(np.mean(train_acc_list),np.min(train_acc_list),np.max(train_acc_list),np.mean(valid_acc_list),np.min(valid_acc_list),np.max(valid_acc_list) ))"
   ]
  },
  {
   "cell_type": "code",
   "execution_count": 14,
   "metadata": {},
   "outputs": [
    {
     "name": "stdout",
     "output_type": "stream",
     "text": [
      "accuracy: 0.5238095238095238\n"
     ]
    }
   ],
   "source": [
    "clf_model.fit(train_x, train_y)        ###                \n",
    "pred_y = clf_model.predict(train_x)    ###\n",
    "\n",
    "clf_acc = accuracy_score(train_y, pred_y)           \n",
    "print('accuracy: {}'.format(clf_acc))    "
   ]
  },
  {
   "cell_type": "code",
   "execution_count": 15,
   "metadata": {},
   "outputs": [
    {
     "name": "stdout",
     "output_type": "stream",
     "text": [
      "test_accuracy: 0.5463780918727915\n"
     ]
    }
   ],
   "source": [
    "test_pred_y = clf_model.predict(test_x)        ###\n",
    "test_acc = accuracy_score(test_y, test_pred_y)           \n",
    "print('test_accuracy: {}'.format(test_acc)) "
   ]
  },
  {
   "cell_type": "markdown",
   "metadata": {},
   "source": [
    "# Neural Network"
   ]
  },
  {
   "cell_type": "code",
   "execution_count": 16,
   "metadata": {},
   "outputs": [
    {
     "name": "stderr",
     "output_type": "stream",
     "text": [
      "Using TensorFlow backend.\n",
      "WARNING: Logging before flag parsing goes to stderr.\n",
      "W0523 21:26:42.003241 22716 deprecation_wrapper.py:119] From C:\\Users\\VrainsHacker\\Anaconda3\\envs\\python3_5\\lib\\site-packages\\keras\\backend\\tensorflow_backend.py:74: The name tf.get_default_graph is deprecated. Please use tf.compat.v1.get_default_graph instead.\n",
      "\n",
      "W0523 21:26:42.049495 22716 deprecation_wrapper.py:119] From C:\\Users\\VrainsHacker\\Anaconda3\\envs\\python3_5\\lib\\site-packages\\keras\\backend\\tensorflow_backend.py:517: The name tf.placeholder is deprecated. Please use tf.compat.v1.placeholder instead.\n",
      "\n",
      "W0523 21:26:42.063122 22716 deprecation_wrapper.py:119] From C:\\Users\\VrainsHacker\\Anaconda3\\envs\\python3_5\\lib\\site-packages\\keras\\backend\\tensorflow_backend.py:4138: The name tf.random_uniform is deprecated. Please use tf.random.uniform instead.\n",
      "\n",
      "W0523 21:26:42.139088 22716 deprecation_wrapper.py:119] From C:\\Users\\VrainsHacker\\Anaconda3\\envs\\python3_5\\lib\\site-packages\\keras\\optimizers.py:790: The name tf.train.Optimizer is deprecated. Please use tf.compat.v1.train.Optimizer instead.\n",
      "\n",
      "W0523 21:26:42.209135 22716 deprecation_wrapper.py:119] From C:\\Users\\VrainsHacker\\Anaconda3\\envs\\python3_5\\lib\\site-packages\\keras\\backend\\tensorflow_backend.py:3295: The name tf.log is deprecated. Please use tf.math.log instead.\n",
      "\n",
      "W0523 21:26:42.499190 22716 deprecation.py:323] From C:\\Users\\VrainsHacker\\Anaconda3\\envs\\python3_5\\lib\\site-packages\\tensorflow\\python\\ops\\math_grad.py:1250: add_dispatch_support.<locals>.wrapper (from tensorflow.python.ops.array_ops) is deprecated and will be removed in a future version.\n",
      "Instructions for updating:\n",
      "Use tf.where in 2.0, which has the same broadcast rule as np.where\n",
      "W0523 21:26:42.611345 22716 deprecation_wrapper.py:119] From C:\\Users\\VrainsHacker\\Anaconda3\\envs\\python3_5\\lib\\site-packages\\keras\\backend\\tensorflow_backend.py:986: The name tf.assign_add is deprecated. Please use tf.compat.v1.assign_add instead.\n",
      "\n"
     ]
    },
    {
     "name": "stdout",
     "output_type": "stream",
     "text": [
      "Epoch 1/10\n",
      " - 0s - loss: 16.0541 - acc: 0.0040\n",
      "Epoch 2/10\n",
      " - 0s - loss: 16.0541 - acc: 0.0040\n",
      "Epoch 3/10\n",
      " - 0s - loss: 16.0541 - acc: 0.0040\n",
      "Epoch 4/10\n",
      " - 0s - loss: 16.0541 - acc: 0.0040\n",
      "Epoch 5/10\n",
      " - 0s - loss: 16.0541 - acc: 0.0040\n",
      "Epoch 6/10\n",
      " - 0s - loss: 16.0541 - acc: 0.0040\n",
      "Epoch 7/10\n",
      " - 0s - loss: 16.0541 - acc: 0.0040\n",
      "Epoch 8/10\n",
      " - 0s - loss: 16.0541 - acc: 0.0040\n",
      "Epoch 9/10\n",
      " - 0s - loss: 16.0541 - acc: 0.0040\n",
      "Epoch 10/10\n",
      " - 0s - loss: 16.0541 - acc: 0.0040\n",
      "252/252 [==============================] - 0s 393us/step\n",
      "train_accuracy: 0.003968254145648744\n",
      "2264/2264 [==============================] - 0s 25us/step\n",
      "test_accuracy: 0.001325088339222615\n"
     ]
    }
   ],
   "source": [
    "from keras import models, layers, optimizers, regularizers\n",
    "from keras.utils import np_utils\n",
    "\n",
    "nn_train_x = np.array(train_x)\n",
    "nn_train_y = np_utils.to_categorical(np.array(train_y))\n",
    "\n",
    "nn_test_x = np.array(test_x)\n",
    "nn_test_y = np_utils.to_categorical(np.array(test_y))\n",
    "\n",
    "nn_model = models.Sequential()\n",
    "\n",
    "nn_model.add(layers.Dense(input_dim=3,units=256,activation='relu'))\n",
    "nn_model.add(layers.Dense(units=2,activation='softmax'))\n",
    "\n",
    "nn_model.compile(loss='categorical_crossentropy', optimizer='adam', metrics=['accuracy']) \n",
    "\n",
    "history = nn_model.fit(nn_train_x, nn_train_y, epochs=10, batch_size=800, verbose=2)\n",
    "\n",
    "train_acc = nn_model.evaluate(nn_train_x, nn_train_y, batch_size=32)[1]\n",
    "print('train_accuracy: {}'.format(train_acc)) \n",
    "\n",
    "test_acc = nn_model.evaluate(nn_test_x, nn_test_y, batch_size=32)[1]\n",
    "print('test_accuracy: {}'.format(test_acc)) "
   ]
  },
  {
   "cell_type": "markdown",
   "metadata": {},
   "source": [
    "# Random Forest Classifier"
   ]
  },
  {
   "cell_type": "code",
   "execution_count": 17,
   "metadata": {},
   "outputs": [
    {
     "name": "stdout",
     "output_type": "stream",
     "text": [
      "average train accuracy: 0.8809615289887198\n",
      "    min train accuracy: 0.8706467661691543\n",
      "    max train accuracy: 0.900497512437811\n",
      "average valid accuracy: 0.7970980392156862\n",
      "    min valid accuracy: 0.72\n",
      "    max valid accuracy: 0.9019607843137255\n"
     ]
    }
   ],
   "source": [
    "from sklearn.ensemble import RandomForestClassifier\n",
    "\n",
    "kf = KFold(n_splits=5, random_state=1012, shuffle=True)\n",
    "kf.get_n_splits(train_x)                            \n",
    "\n",
    "train_acc_list = []                                \n",
    "valid_acc_list = []                                 \n",
    "\n",
    "for train_index, valid_index in kf.split(train_x):   \n",
    "    train_x_split = train_x.iloc[train_index]        \n",
    "    train_y_split = train_y.iloc[train_index]       \n",
    "    valid_x_split = train_x.iloc[valid_index]        \n",
    "    valid_y_split = train_y.iloc[valid_index]        \n",
    "    \n",
    "    rfc_model = RandomForestClassifier( n_estimators = 1000,min_samples_split = 20,min_samples_leaf = 1,oob_score = True,random_state = 1,n_jobs = -1 ) \n",
    "    ###\n",
    "    rfc_model.fit(train_x_split, train_y_split)                  ###\n",
    "    \n",
    "    train_pred_y = rfc_model.predict(train_x_split)              ###\n",
    "    train_acc = accuracy_score(train_y_split,train_pred_y)\n",
    "    valid_pred_y = rfc_model.predict(valid_x_split)              ###\n",
    "    valid_acc = accuracy_score(valid_y_split,valid_pred_y)\n",
    "    \n",
    "    train_acc_list.append(train_acc)\n",
    "    valid_acc_list.append(valid_acc)\n",
    "\n",
    "print(('average train accuracy: {}\\n' +'    min train accuracy: {}\\n' +'    max train accuracy: {}\\n' +'average valid accuracy: {}\\n' +'    min valid accuracy: {}\\n' +'    max valid accuracy: {}')\n",
    "     .format(np.mean(train_acc_list),np.min(train_acc_list),np.max(train_acc_list),np.mean(valid_acc_list),np.min(valid_acc_list),np.max(valid_acc_list) ))"
   ]
  },
  {
   "cell_type": "code",
   "execution_count": 18,
   "metadata": {},
   "outputs": [
    {
     "name": "stdout",
     "output_type": "stream",
     "text": [
      "accuracy: 0.8809523809523809\n"
     ]
    }
   ],
   "source": [
    "rfc_model.fit(train_x, train_y)        ###                \n",
    "pred_y = rfc_model.predict(train_x)    ###\n",
    "\n",
    "acc = accuracy_score(train_y, pred_y)           \n",
    "print('accuracy: {}'.format(acc))             "
   ]
  },
  {
   "cell_type": "code",
   "execution_count": 19,
   "metadata": {},
   "outputs": [
    {
     "name": "stdout",
     "output_type": "stream",
     "text": [
      "test_accuracy: 0.8811837455830389\n"
     ]
    }
   ],
   "source": [
    "test_pred_y = rfc_model.predict(test_x)        ###\n",
    "test_acc = accuracy_score(test_y, test_pred_y)           \n",
    "print('test_accuracy: {}'.format(test_acc)) "
   ]
  },
  {
   "cell_type": "code",
   "execution_count": null,
   "metadata": {},
   "outputs": [],
   "source": []
  }
 ],
 "metadata": {
  "kernelspec": {
   "display_name": "Python 3",
   "language": "python",
   "name": "python3"
  },
  "language_info": {
   "codemirror_mode": {
    "name": "ipython",
    "version": 3
   },
   "file_extension": ".py",
   "mimetype": "text/x-python",
   "name": "python",
   "nbconvert_exporter": "python",
   "pygments_lexer": "ipython3",
   "version": "3.7.2"
  }
 },
 "nbformat": 4,
 "nbformat_minor": 2
}
